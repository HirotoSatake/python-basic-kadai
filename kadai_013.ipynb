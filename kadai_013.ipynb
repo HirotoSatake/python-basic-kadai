{
  "nbformat": 4,
  "nbformat_minor": 0,
  "metadata": {
    "colab": {
      "provenance": []
    },
    "kernelspec": {
      "name": "python3",
      "display_name": "Python 3"
    },
    "language_info": {
      "name": "python"
    }
  },
  "cells": [
    {
      "cell_type": "code",
      "execution_count": 1,
      "metadata": {
        "colab": {
          "base_uri": "https://localhost:8080/"
        },
        "id": "l9lDJE_y4Lgu",
        "outputId": "3426a0d1-5238-4e8c-8fd0-b337f8b7adf6"
      },
      "outputs": [
        {
          "output_type": "stream",
          "name": "stdout",
          "text": [
            "110.00000000000001円\n"
          ]
        }
      ],
      "source": [
        "def calculate_total(price , tax):\n",
        "    total = price * tax\n",
        "\n",
        "    print(f\"{total}円\")\n",
        "\n",
        "calculate_total(100 , 1.10)"
      ]
    },
    {
      "cell_type": "code",
      "source": [
        "# 消費税を計算する関数\n",
        "def calculate_tax(product_price, tax_rate):\n",
        "    # 消費税を加算した金額を計算\n",
        "    total_price = product_price * (1 + tax_rate)\n",
        "    return total_price\n",
        "\n",
        "# 関数を使用して計算を行う (引数)\n",
        "product_price = 1000  # 商品の金額（円）\n",
        "tax_rate = 0.10  # 消費税率（10%）\n",
        "\n",
        "# 関数を呼び出して計算結果を得る\n",
        "final_price = calculate_tax(product_price, tax_rate)\n",
        "\n",
        "# 結果を表示\n",
        "print(f\"商品の金額: {product_price}円\")\n",
        "print(f\"消費税率: {tax_rate * 100}%\")\n",
        "#return(戻り値)\n",
        "print(f\"税込金額: {final_price}円\")"
      ],
      "metadata": {
        "colab": {
          "base_uri": "https://localhost:8080/"
        },
        "id": "uu-6PsR85Rr7",
        "outputId": "841005b9-81cb-4478-f092-fa920d001a42"
      },
      "execution_count": 6,
      "outputs": [
        {
          "output_type": "stream",
          "name": "stdout",
          "text": [
            "商品の金額: 1000円\n",
            "消費税率: 10.0%\n",
            "税込金額: 1100.0円\n"
          ]
        }
      ]
    }
  ]
}