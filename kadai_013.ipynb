{
  "nbformat": 4,
  "nbformat_minor": 0,
  "metadata": {
    "colab": {
      "provenance": []
    },
    "kernelspec": {
      "name": "python3",
      "display_name": "Python 3"
    },
    "language_info": {
      "name": "python"
    }
  },
  "cells": [
    {
      "cell_type": "code",
      "execution_count": 9,
      "metadata": {
        "colab": {
          "base_uri": "https://localhost:8080/"
        },
        "id": "sDwyNeCDoGKG",
        "outputId": "c6786b74-0e05-4b15-9a24-af225d85f112"
      },
      "outputs": [
        {
          "output_type": "stream",
          "name": "stdout",
          "text": [
            "110.00000000000001円\n"
          ]
        }
      ],
      "source": [
        "def calculate_total(price , tax):\n",
        "    total = price * tax\n",
        "\n",
        "    print(f\"{total}円\")\n",
        "\n",
        "calculate_total(100 , 1.10)"
      ]
    },
    {
      "cell_type": "code",
      "source": [],
      "metadata": {
        "id": "5NV-RYBZhTDL"
      },
      "execution_count": null,
      "outputs": []
    }
  ]
}