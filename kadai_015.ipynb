{
  "nbformat": 4,
  "nbformat_minor": 0,
  "metadata": {
    "colab": {
      "provenance": []
    },
    "kernelspec": {
      "name": "python3",
      "display_name": "Python 3"
    },
    "language_info": {
      "name": "python"
    }
  },
  "cells": [
    {
      "cell_type": "code",
      "source": [
        "class Human:\n",
        "    def __init__(self, name, age):\n",
        "        self.name = name\n",
        "        self.age = age\n",
        "\n",
        "    def printinfo(self):\n",
        "        print(f\"名前:{self.name}\")\n",
        "        print(f\"年齢:{self.age}\")\n",
        "\n",
        "person = Human(\"佐竹　洋人\", 29)\n",
        "\n",
        "person.printinfo()"
      ],
      "metadata": {
        "colab": {
          "base_uri": "https://localhost:8080/"
        },
        "id": "tNX4Ow2foM9e",
        "outputId": "e446f0c5-7c9b-4632-84ef-c8502a0a3017"
      },
      "execution_count": 6,
      "outputs": [
        {
          "output_type": "stream",
          "name": "stdout",
          "text": [
            "名前:佐竹　洋人\n",
            "年齢:29\n"
          ]
        }
      ]
    }
  ]
}