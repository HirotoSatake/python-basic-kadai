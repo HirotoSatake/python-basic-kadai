{
  "nbformat": 4,
  "nbformat_minor": 0,
  "metadata": {
    "colab": {
      "provenance": []
    },
    "kernelspec": {
      "name": "python3",
      "display_name": "Python 3"
    },
    "language_info": {
      "name": "python"
    }
  },
  "cells": [
    {
      "cell_type": "code",
      "execution_count": 9,
      "metadata": {
        "colab": {
          "base_uri": "https://localhost:8080/"
        },
        "id": "tk8nLOl0maO-",
        "outputId": "5cb4e19e-40d6-4128-eb90-d09a50104b27"
      },
      "outputs": [
        {
          "output_type": "stream",
          "name": "stdout",
          "text": [
            "田中さんは大人です。\n",
            "佐藤さんは大人ではないです。\n",
            "鈴木さんは大人です。\n",
            "高橋さんは大人ではないです。\n"
          ]
        }
      ],
      "source": [
        "class Human:\n",
        "    def __init__(self, name, age):\n",
        "        self.name = name\n",
        "        self.age = age\n",
        "\n",
        "    def check_adult(self):\n",
        "        if self.age >= 20:\n",
        "            print(f\"{self.name}さんは大人です。\")\n",
        "\n",
        "        else:\n",
        "            print(f\"{self.name}さんは大人ではないです。\")\n",
        "\n",
        "people = [Human(\"田中\", 21),Human(\"佐藤\", 18),Human(\"鈴木\", 30),Human(\"高橋\", 14)]\n",
        "\n",
        "for person in people:\n",
        "    person.check_adult()"
      ]
    }
  ]
}